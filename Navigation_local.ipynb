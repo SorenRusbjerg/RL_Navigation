{
 "cells": [
  {
   "cell_type": "markdown",
   "metadata": {},
   "source": [
    "# Navigation\n",
    "\n",
    "---\n",
    "\n",
    "In this notebook, you will learn how to use the Unity ML-Agents environment for the first project of the [Deep Reinforcement Learning Nanodegree](https://www.udacity.com/course/deep-reinforcement-learning-nanodegree--nd893).\n",
    "\n",
    "### 1. Start the Environment\n",
    "\n",
    "We begin by importing some necessary packages.  If the code cell below returns an error, please revisit the project instructions to double-check that you have installed [Unity ML-Agents](https://github.com/Unity-Technologies/ml-agents/blob/master/docs/Installation.md) and [NumPy](http://www.numpy.org/)."
   ]
  },
  {
   "cell_type": "code",
   "execution_count": 2,
   "metadata": {},
   "outputs": [],
   "source": [
    "from unityagents import UnityEnvironment\n",
    "import numpy as np"
   ]
  },
  {
   "cell_type": "markdown",
   "metadata": {},
   "source": [
    "Next, we will start the environment!  **_Before running the code cell below_**, change the `file_name` parameter to match the location of the Unity environment that you downloaded.\n",
    "\n",
    "- **Mac**: `\"path/to/Banana.app\"`\n",
    "- **Windows** (x86): `\"path/to/Banana_Windows_x86/Banana.exe\"`\n",
    "- **Windows** (x86_64): `\"path/to/Banana_Windows_x86_64/Banana.exe\"`\n",
    "- **Linux** (x86): `\"path/to/Banana_Linux/Banana.x86\"`\n",
    "- **Linux** (x86_64): `\"path/to/Banana_Linux/Banana.x86_64\"`\n",
    "- **Linux** (x86, headless): `\"path/to/Banana_Linux_NoVis/Banana.x86\"`\n",
    "- **Linux** (x86_64, headless): `\"path/to/Banana_Linux_NoVis/Banana.x86_64\"`\n",
    "\n",
    "For instance, if you are using a Mac, then you downloaded `Banana.app`.  If this file is in the same folder as the notebook, then the line below should appear as follows:\n",
    "```\n",
    "env = UnityEnvironment(file_name=\"Banana.app\")\n",
    "```"
   ]
  },
  {
   "cell_type": "code",
   "execution_count": 3,
   "metadata": {},
   "outputs": [
    {
     "name": "stderr",
     "output_type": "stream",
     "text": [
      "INFO:unityagents:\n",
      "'Academy' started successfully!\n",
      "Unity Academy name: Academy\n",
      "        Number of Brains: 1\n",
      "        Number of External Brains : 1\n",
      "        Lesson number : 0\n",
      "        Reset Parameters :\n",
      "\t\t\n",
      "Unity brain name: BananaBrain\n",
      "        Number of Visual Observations (per agent): 0\n",
      "        Vector Observation space type: continuous\n",
      "        Vector Observation space size (per agent): 37\n",
      "        Number of stacked Vector Observation: 1\n",
      "        Vector Action space type: discrete\n",
      "        Vector Action space size (per agent): 4\n",
      "        Vector Action descriptions: , , , \n"
     ]
    }
   ],
   "source": [
    "env = UnityEnvironment(file_name=\"../Banana_Linux/Banana.x86_64\")"
   ]
  },
  {
   "cell_type": "markdown",
   "metadata": {},
   "source": [
    "Environments contain **_brains_** which are responsible for deciding the actions of their associated agents. Here we check for the first brain available, and set it as the default brain we will be controlling from Python."
   ]
  },
  {
   "cell_type": "code",
   "execution_count": 4,
   "metadata": {},
   "outputs": [],
   "source": [
    "# get the default brain\n",
    "brain_name = env.brain_names[0]\n",
    "brain = env.brains[brain_name]"
   ]
  },
  {
   "cell_type": "markdown",
   "metadata": {},
   "source": [
    "### 2. Examine the State and Action Spaces\n",
    "\n",
    "The simulation contains a single agent that navigates a large environment.  At each time step, it has four actions at its disposal:\n",
    "- `0` - walk forward \n",
    "- `1` - walk backward\n",
    "- `2` - turn left\n",
    "- `3` - turn right\n",
    "\n",
    "The state space has `37` dimensions and contains the agent's velocity, along with ray-based perception of objects around agent's forward direction.  A reward of `+1` is provided for collecting a yellow banana, and a reward of `-1` is provided for collecting a blue banana. \n",
    "\n",
    "Run the code cell below to print some information about the environment."
   ]
  },
  {
   "cell_type": "code",
   "execution_count": 5,
   "metadata": {},
   "outputs": [
    {
     "name": "stdout",
     "output_type": "stream",
     "text": [
      "Number of agents: 1\n",
      "Number of actions: 4\n",
      "States look like: [1.         0.         0.         0.         0.84408134 0.\n",
      " 0.         1.         0.         0.0748472  0.         1.\n",
      " 0.         0.         0.25755    1.         0.         0.\n",
      " 0.         0.74177343 0.         1.         0.         0.\n",
      " 0.25854847 0.         0.         1.         0.         0.09355672\n",
      " 0.         1.         0.         0.         0.31969345 0.\n",
      " 0.        ]\n",
      "States have length: 37\n"
     ]
    }
   ],
   "source": [
    "# reset the environment\n",
    "env_info = env.reset(train_mode=True)[brain_name]\n",
    "\n",
    "# number of agents in the environment\n",
    "print('Number of agents:', len(env_info.agents))\n",
    "\n",
    "# number of actions\n",
    "action_size = brain.vector_action_space_size\n",
    "print('Number of actions:', action_size)\n",
    "\n",
    "# examine the state space \n",
    "state = env_info.vector_observations[0]\n",
    "print('States look like:', state)\n",
    "state_size = len(state)\n",
    "print('States have length:', state_size)"
   ]
  },
  {
   "cell_type": "markdown",
   "metadata": {},
   "source": [
    "## Create agent\n"
   ]
  },
  {
   "cell_type": "code",
   "execution_count": 18,
   "metadata": {},
   "outputs": [],
   "source": [
    "from dqn_agent import Agent\n",
    "\n",
    "agent = Agent(state_size=state_size, action_size=action_size, seed=1, use_ddqn=True)\n"
   ]
  },
  {
   "cell_type": "markdown",
   "metadata": {},
   "source": [
    "## Define training algorithm"
   ]
  },
  {
   "cell_type": "code",
   "execution_count": 7,
   "metadata": {
    "run_control": {
     "marked": true
    }
   },
   "outputs": [],
   "source": [
    "from collections import deque\n",
    "import torch\n",
    "\n",
    "def dqn(n_episodes=5, max_t=1000, eps_start=1.0, eps_end=0.01, eps_decay=0.995, checkpointFileName=None):\n",
    "    \"\"\"Deep Q-Learning.\n",
    "    \n",
    "    Params\n",
    "    ======\n",
    "        n_episodes (int): maximum number of training episodes\n",
    "        max_t (int): maximum number of timesteps per episode\n",
    "        eps_start (float): starting value of epsilon, for epsilon-greedy action selection\n",
    "        eps_end (float): minimum value of epsilon\n",
    "        eps_decay (float): multiplicative factor (per episode) for decreasing epsilon\n",
    "        checkpointFileName: name of file DQN model weights\n",
    "    \"\"\"\n",
    "    scores = []                        # list containing scores from each episode\n",
    "    scores_window = deque(maxlen=100)  # last 100 scores\n",
    "    score_max = 0\n",
    "    eps = eps_start                    # initialize epsilon\n",
    "    # Load network parameters\n",
    "    if checkpointFileName is not None:\n",
    "        agent.qnetwork_local.load_state_dict(torch.load(checkpointFileName))\n",
    "        eps = eps_end*10   # Increase starting epsilon in eps-greedy comapred to end epsilon (more curious)  \n",
    "    \n",
    "    for i_episode in range(1, n_episodes+1):\n",
    "        env_info = env.reset(train_mode=True)[brain_name] # reset the environment\n",
    "        state = env_info.vector_observations[0]            # get the current state\n",
    "        score = 0\n",
    "        for t in range(max_t):\n",
    "            action = agent.act(state, eps)\n",
    "            env_info = env.step(action)[brain_name]        # send the action to the environment\n",
    "            next_state = env_info.vector_observations[0]   # get the next state\n",
    "            reward = env_info.rewards[0]                   # get the reward\n",
    "            done = env_info.local_done[0]                  # see if episode has finished\n",
    "            agent.step(state, action, reward, next_state, done)\n",
    "            state = next_state\n",
    "            score += reward\n",
    "            if done:\n",
    "                break \n",
    "        scores_window.append(score)       # save most recent score\n",
    "        scores.append(score)              # save most recent score\n",
    "        eps = max(eps_end, eps_decay*eps) # decrease epsilon\n",
    "        print('\\rEpisode {}\\tAverage Score: {:.2f}\\teps: {:.2f}'.format(i_episode, np.mean(scores_window), eps), end=\"\")\n",
    "        if i_episode % 100 == 0:\n",
    "            print('\\rEpisode {}\\tAverage Score: {:.2f}'.format(i_episode, np.mean(scores_window)))\n",
    "        \n",
    "        score_mean = np.mean(scores_window)\n",
    "        if score_mean>=10 and score_mean>(score_max+0.2):\n",
    "            score_max = score_mean\n",
    "            print('\\nSave  at episode {:d}!\\tAverage Score: {:.2f}'.format(i_episode, score_mean))\n",
    "            checkpointFileName = 'checkpoint_Score_{:.2f}.pth'.format(score_mean)\n",
    "            torch.save(agent.qnetwork_local.state_dict(), checkpointFileName)\n",
    "            \n",
    "    return scores, checkpointFileName"
   ]
  },
  {
   "cell_type": "markdown",
   "metadata": {},
   "source": [
    "## Run training"
   ]
  },
  {
   "cell_type": "code",
   "execution_count": 8,
   "metadata": {
    "run_control": {
     "marked": true
    }
   },
   "outputs": [
    {
     "name": "stdout",
     "output_type": "stream",
     "text": [
      "Episode 100\tAverage Score: 0.62\teps: 0.30\n",
      "Episode 200\tAverage Score: 5.32\teps: 0.18\n",
      "Episode 300\tAverage Score: 9.81\teps: 0.11\n",
      "Episode 306\tAverage Score: 10.00\teps: 0.11\n",
      "Save  at episode 306!\tAverage Score: 10.00\n",
      "Episode 317\tAverage Score: 10.22\teps: 0.10\n",
      "Save  at episode 317!\tAverage Score: 10.22\n",
      "Episode 322\tAverage Score: 10.43\teps: 0.10\n",
      "Save  at episode 322!\tAverage Score: 10.43\n",
      "Episode 335\tAverage Score: 10.72\teps: 0.09\n",
      "Save  at episode 335!\tAverage Score: 10.72\n",
      "Episode 344\tAverage Score: 10.95\teps: 0.09\n",
      "Save  at episode 344!\tAverage Score: 10.95\n",
      "Episode 385\tAverage Score: 11.15\teps: 0.07\n",
      "Save  at episode 385!\tAverage Score: 11.15\n",
      "Episode 392\tAverage Score: 11.40\teps: 0.07\n",
      "Save  at episode 392!\tAverage Score: 11.40\n",
      "Episode 399\tAverage Score: 11.74\teps: 0.07\n",
      "Save  at episode 399!\tAverage Score: 11.74\n",
      "Episode 400\tAverage Score: 11.77\teps: 0.07\n",
      "Episode 406\tAverage Score: 11.99\teps: 0.07\n",
      "Save  at episode 406!\tAverage Score: 11.99\n",
      "Episode 411\tAverage Score: 12.29\teps: 0.06\n",
      "Save  at episode 411!\tAverage Score: 12.29\n",
      "Episode 424\tAverage Score: 12.49\teps: 0.06\n",
      "Save  at episode 424!\tAverage Score: 12.49\n",
      "Episode 431\tAverage Score: 12.70\teps: 0.06\n",
      "Save  at episode 431!\tAverage Score: 12.70\n",
      "Episode 440\tAverage Score: 12.90\teps: 0.06\n",
      "Save  at episode 440!\tAverage Score: 12.90\n",
      "Episode 448\tAverage Score: 13.14\teps: 0.05\n",
      "Save  at episode 448!\tAverage Score: 13.14\n",
      "Episode 452\tAverage Score: 13.36\teps: 0.05\n",
      "Save  at episode 452!\tAverage Score: 13.36\n",
      "Episode 456\tAverage Score: 13.56\teps: 0.05\n",
      "Save  at episode 456!\tAverage Score: 13.56\n",
      "Episode 466\tAverage Score: 13.77\teps: 0.05\n",
      "Save  at episode 466!\tAverage Score: 13.77\n",
      "Episode 473\tAverage Score: 13.97\teps: 0.05\n",
      "Save  at episode 473!\tAverage Score: 13.97\n",
      "Episode 477\tAverage Score: 14.25\teps: 0.05\n",
      "Save  at episode 477!\tAverage Score: 14.25\n",
      "Episode 496\tAverage Score: 14.50\teps: 0.04\n",
      "Save  at episode 496!\tAverage Score: 14.50\n",
      "Episode 500\tAverage Score: 14.40\teps: 0.04\n",
      "Episode 530\tAverage Score: 14.71\teps: 0.04\n",
      "Save  at episode 530!\tAverage Score: 14.71\n",
      "Episode 536\tAverage Score: 14.92\teps: 0.03\n",
      "Save  at episode 536!\tAverage Score: 14.92\n",
      "Episode 573\tAverage Score: 15.13\teps: 0.03\n",
      "Save  at episode 573!\tAverage Score: 15.13\n",
      "Episode 598\tAverage Score: 15.39\teps: 0.02\n",
      "Save  at episode 598!\tAverage Score: 15.39\n",
      "Episode 600\tAverage Score: 15.43\teps: 0.02\n",
      "Episode 625\tAverage Score: 15.61\teps: 0.02\n",
      "Save  at episode 625!\tAverage Score: 15.61\n",
      "Episode 700\tAverage Score: 15.49\teps: 0.01\n",
      "Episode 800\tAverage Score: 14.79\teps: 0.01\n",
      "Episode 895\tAverage Score: 15.83\teps: 0.01\n",
      "Save  at episode 895!\tAverage Score: 15.83\n",
      "Episode 900\tAverage Score: 15.90\teps: 0.01\n",
      "Episode 1000\tAverage Score: 15.08\teps: 0.01\n",
      "Episode 1100\tAverage Score: 15.64\teps: 0.01\n",
      "Episode 1152\tAverage Score: 16.06\teps: 0.01\n",
      "Save  at episode 1152!\tAverage Score: 16.06\n",
      "Episode 1200\tAverage Score: 15.62\teps: 0.01\n"
     ]
    },
    {
     "data": {
      "image/png": "[encoded data removed]",
      "text/plain": [
       "<Figure size 432x288 with 1 Axes>"
      ]
     },
     "metadata": {
      "needs_background": "light"
     },
     "output_type": "display_data"
    }
   ],
   "source": [
    "import matplotlib.pyplot as plt\n",
    "%matplotlib inline\n",
    "\n",
    "# Insert check point file name if train should continue from checkpoint\n",
    "checkpointFileName = None\n",
    "#checkpointFileName = 'checkpoint_Score_13.00.pth'\n",
    "# Run training \n",
    "scores, checkpointFileName = dqn(n_episodes=1200, max_t=500, eps_start=0.5, eps_end=0.01, eps_decay=0.995, checkpointFileName=checkpointFileName)\n",
    "\n",
    "# plot the scores\n",
    "fig = plt.figure()\n",
    "ax = fig.add_subplot(111)\n",
    "plt.plot(np.arange(len(scores)), scores)\n",
    "plt.ylabel('Score')\n",
    "plt.xlabel('Episode #')\n",
    "plt.show()"
   ]
  },
  {
   "cell_type": "markdown",
   "metadata": {},
   "source": [
    "## Test trained agent in environment"
   ]
  },
  {
   "cell_type": "code",
   "execution_count": 17,
   "metadata": {},
   "outputs": [
    {
     "name": "stdout",
     "output_type": "stream",
     "text": [
      "Score: 22.0\n"
     ]
    }
   ],
   "source": [
    "# Load agent and test agent\n",
    "# load the weights from file\n",
    "checkpointFileName = 'checkpoint_Score_16.06.pth'\n",
    "agent.qnetwork_local.load_state_dict(torch.load(checkpointFileName))\n",
    "\n",
    "env_info = env.reset(train_mode=False)[brain_name] # reset the environment\n",
    "state = env_info.vector_observations[0]            # get the current state\n",
    "score = 0                                          # initialize the score\n",
    "while True:\n",
    "    action = agent.act(state, 0.01)                 # select an action\n",
    "    env_info = env.step(action)[brain_name]        # send the action to the environment\n",
    "    next_state = env_info.vector_observations[0]   # get the next state\n",
    "    reward = env_info.rewards[0]                   # get the reward\n",
    "    done = env_info.local_done[0]                  # see if episode has finished\n",
    "    score += reward                                # update the score\n",
    "    state = next_state                             # roll over the state to next time step\n",
    "    if done:                                       # exit loop if episode finished\n",
    "        break\n",
    "    \n",
    "print(\"Score: {}\".format(score))"
   ]
  },
  {
   "cell_type": "code",
   "execution_count": 21,
   "metadata": {},
   "outputs": [
    {
     "data": {
      "text/plain": [
       "'checkpoint_Score_16.06.pth'"
      ]
     },
     "execution_count": 21,
     "metadata": {},
     "output_type": "execute_result"
    }
   ],
   "source": [
    "checkpointFileName\n"
   ]
  },
  {
   "cell_type": "markdown",
   "metadata": {},
   "source": [
    "## Close environment"
   ]
  },
  {
   "cell_type": "code",
   "execution_count": 22,
   "metadata": {},
   "outputs": [],
   "source": [
    "env.close()"
   ]
  }
 ],
 "metadata": {
  "kernelspec": {
   "display_name": "drlnd",
   "language": "python",
   "name": "drlnd"
  },
  "latex_envs": {
   "LaTeX_envs_menu_present": true,
   "autoclose": false,
   "autocomplete": true,
   "bibliofile": "biblio.bib",
   "cite_by": "apalike",
   "current_citInitial": 1,
   "eqLabelWithNumbers": true,
   "eqNumInitial": 1,
   "hotkeys": {
    "equation": "Ctrl-E",
    "itemize": "Ctrl-I"
   },
   "labels_anchors": false,
   "latex_user_defs": false,
   "report_style_numbering": false,
   "user_envs_cfg": false
  },
  "toc": {
   "base_numbering": 1,
   "nav_menu": {},
   "number_sections": true,
   "sideBar": true,
   "skip_h1_title": false,
   "title_cell": "Table of Contents",
   "title_sidebar": "Contents",
   "toc_cell": false,
   "toc_position": {},
   "toc_section_display": true,
   "toc_window_display": false
  },
  "varInspector": {
   "cols": {
    "lenName": 16,
    "lenType": 16,
    "lenVar": 40
   },
   "kernels_config": {
    "python": {
     "delete_cmd_postfix": "",
     "delete_cmd_prefix": "del ",
     "library": "var_list.py",
     "varRefreshCmd": "print(var_dic_list())"
    },
    "r": {
     "delete_cmd_postfix": ") ",
     "delete_cmd_prefix": "rm(",
     "library": "var_list.r",
     "varRefreshCmd": "cat(var_dic_list()) "
    }
   },
   "types_to_exclude": [
    "module",
    "function",
    "builtin_function_or_method",
    "instance",
    "_Feature"
   ],
   "window_display": false
  }
 },
 "nbformat": 4,
 "nbformat_minor": 2
}
